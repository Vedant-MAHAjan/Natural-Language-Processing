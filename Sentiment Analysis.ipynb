{
 "cells": [
  {
   "cell_type": "code",
   "execution_count": 1,
   "metadata": {},
   "outputs": [],
   "source": [
    "import pandas as pd\n",
    "import numpy as np"
   ]
  },
  {
   "cell_type": "code",
   "execution_count": 2,
   "metadata": {},
   "outputs": [
    {
     "data": {
      "text/html": [
       "<div>\n",
       "<style scoped>\n",
       "    .dataframe tbody tr th:only-of-type {\n",
       "        vertical-align: middle;\n",
       "    }\n",
       "\n",
       "    .dataframe tbody tr th {\n",
       "        vertical-align: top;\n",
       "    }\n",
       "\n",
       "    .dataframe thead th {\n",
       "        text-align: right;\n",
       "    }\n",
       "</style>\n",
       "<table border=\"1\" class=\"dataframe\">\n",
       "  <thead>\n",
       "    <tr style=\"text-align: right;\">\n",
       "      <th></th>\n",
       "      <th>Text</th>\n",
       "      <th>Sentiment</th>\n",
       "    </tr>\n",
       "  </thead>\n",
       "  <tbody>\n",
       "    <tr>\n",
       "      <th>0</th>\n",
       "      <td>The rooms are extremely small, practically onl...</td>\n",
       "      <td>negative</td>\n",
       "    </tr>\n",
       "    <tr>\n",
       "      <th>1</th>\n",
       "      <td>Room safe did not work.</td>\n",
       "      <td>negative</td>\n",
       "    </tr>\n",
       "    <tr>\n",
       "      <th>2</th>\n",
       "      <td>Mattress very comfortable.</td>\n",
       "      <td>positive</td>\n",
       "    </tr>\n",
       "    <tr>\n",
       "      <th>3</th>\n",
       "      <td>Very uncomfortable, thin mattress, with plasti...</td>\n",
       "      <td>negative</td>\n",
       "    </tr>\n",
       "    <tr>\n",
       "      <th>4</th>\n",
       "      <td>No bathroom in room</td>\n",
       "      <td>NaN</td>\n",
       "    </tr>\n",
       "  </tbody>\n",
       "</table>\n",
       "</div>"
      ],
      "text/plain": [
       "                                                Text Sentiment\n",
       "0  The rooms are extremely small, practically onl...  negative\n",
       "1                            Room safe did not work.  negative\n",
       "2                         Mattress very comfortable.  positive\n",
       "3  Very uncomfortable, thin mattress, with plasti...  negative\n",
       "4                                No bathroom in room       NaN"
      ]
     },
     "execution_count": 2,
     "metadata": {},
     "output_type": "execute_result"
    }
   ],
   "source": [
    "df=pd.read_csv('reviews_mixed.csv')\n",
    "df.head()"
   ]
  },
  {
   "cell_type": "code",
   "execution_count": 3,
   "metadata": {},
   "outputs": [],
   "source": [
    "df.dropna(inplace=True)"
   ]
  },
  {
   "cell_type": "code",
   "execution_count": 4,
   "metadata": {},
   "outputs": [],
   "source": [
    "df.replace(to_replace =\"negative\", \n",
    "                 value =\"0\",inplace=True)\n",
    "df.replace(to_replace =\"positive\", \n",
    "                 value =\"1\",inplace=True) "
   ]
  },
  {
   "cell_type": "code",
   "execution_count": 5,
   "metadata": {},
   "outputs": [
    {
     "data": {
      "text/html": [
       "<div>\n",
       "<style scoped>\n",
       "    .dataframe tbody tr th:only-of-type {\n",
       "        vertical-align: middle;\n",
       "    }\n",
       "\n",
       "    .dataframe tbody tr th {\n",
       "        vertical-align: top;\n",
       "    }\n",
       "\n",
       "    .dataframe thead th {\n",
       "        text-align: right;\n",
       "    }\n",
       "</style>\n",
       "<table border=\"1\" class=\"dataframe\">\n",
       "  <thead>\n",
       "    <tr style=\"text-align: right;\">\n",
       "      <th></th>\n",
       "      <th>Text</th>\n",
       "      <th>Sentiment</th>\n",
       "    </tr>\n",
       "  </thead>\n",
       "  <tbody>\n",
       "    <tr>\n",
       "      <th>0</th>\n",
       "      <td>The rooms are extremely small, practically onl...</td>\n",
       "      <td>0</td>\n",
       "    </tr>\n",
       "    <tr>\n",
       "      <th>1</th>\n",
       "      <td>Room safe did not work.</td>\n",
       "      <td>0</td>\n",
       "    </tr>\n",
       "    <tr>\n",
       "      <th>2</th>\n",
       "      <td>Mattress very comfortable.</td>\n",
       "      <td>1</td>\n",
       "    </tr>\n",
       "    <tr>\n",
       "      <th>3</th>\n",
       "      <td>Very uncomfortable, thin mattress, with plasti...</td>\n",
       "      <td>0</td>\n",
       "    </tr>\n",
       "    <tr>\n",
       "      <th>5</th>\n",
       "      <td>The bed was soooo comfy.</td>\n",
       "      <td>1</td>\n",
       "    </tr>\n",
       "    <tr>\n",
       "      <th>...</th>\n",
       "      <td>...</td>\n",
       "      <td>...</td>\n",
       "    </tr>\n",
       "    <tr>\n",
       "      <th>289</th>\n",
       "      <td>No room service.</td>\n",
       "      <td>1</td>\n",
       "    </tr>\n",
       "    <tr>\n",
       "      <th>297</th>\n",
       "      <td>ALTHOUGHT i WOULD LIKE TO MAKE A SPECIAL MENTI...</td>\n",
       "      <td>positivepositive</td>\n",
       "    </tr>\n",
       "    <tr>\n",
       "      <th>303</th>\n",
       "      <td>While the streets are rather busy during the d...</td>\n",
       "      <td>1</td>\n",
       "    </tr>\n",
       "    <tr>\n",
       "      <th>304</th>\n",
       "      <td>Very close to Times Square</td>\n",
       "      <td>1</td>\n",
       "    </tr>\n",
       "    <tr>\n",
       "      <th>305</th>\n",
       "      <td>Within walking distance to Columbia University.</td>\n",
       "      <td>1</td>\n",
       "    </tr>\n",
       "  </tbody>\n",
       "</table>\n",
       "<p>247 rows × 2 columns</p>\n",
       "</div>"
      ],
      "text/plain": [
       "                                                  Text         Sentiment\n",
       "0    The rooms are extremely small, practically onl...                 0\n",
       "1                              Room safe did not work.                 0\n",
       "2                           Mattress very comfortable.                 1\n",
       "3    Very uncomfortable, thin mattress, with plasti...                 0\n",
       "5                             The bed was soooo comfy.                 1\n",
       "..                                                 ...               ...\n",
       "289                                   No room service.                 1\n",
       "297  ALTHOUGHT i WOULD LIKE TO MAKE A SPECIAL MENTI...  positivepositive\n",
       "303  While the streets are rather busy during the d...                 1\n",
       "304                         Very close to Times Square                 1\n",
       "305    Within walking distance to Columbia University.                 1\n",
       "\n",
       "[247 rows x 2 columns]"
      ]
     },
     "execution_count": 5,
     "metadata": {},
     "output_type": "execute_result"
    }
   ],
   "source": [
    "df"
   ]
  },
  {
   "cell_type": "code",
   "execution_count": 6,
   "metadata": {},
   "outputs": [],
   "source": [
    "from sklearn.model_selection import train_test_split\n",
    "X_train,X_test,y_train,y_test=train_test_split(df['Text'],df['Sentiment'],random_state=0)"
   ]
  },
  {
   "cell_type": "code",
   "execution_count": 7,
   "metadata": {},
   "outputs": [
    {
     "name": "stdout",
     "output_type": "stream",
     "text": [
      "The rooms are extremely small, practically only a bed.\n",
      "(185,)\n"
     ]
    }
   ],
   "source": [
    "print(X_train[0])\n",
    "print(X_train.shape)"
   ]
  },
  {
   "cell_type": "code",
   "execution_count": 8,
   "metadata": {},
   "outputs": [],
   "source": [
    "from sklearn.feature_extraction.text import CountVectorizer\n",
    "vect=CountVectorizer().fit(X_train)  \n",
    "#Count Vectorizer does not look after the structure of th words or the sequence in which they occur"
   ]
  },
  {
   "cell_type": "code",
   "execution_count": 9,
   "metadata": {},
   "outputs": [
    {
     "data": {
      "text/plain": [
       "['12am',\n",
       " 'amazing',\n",
       " 'bathroom',\n",
       " 'cables',\n",
       " 'comforts',\n",
       " 'desk',\n",
       " 'engineer',\n",
       " 'fine',\n",
       " 'greatest',\n",
       " 'hvac',\n",
       " 'lengths',\n",
       " 'mattress',\n",
       " 'nyc',\n",
       " 'place',\n",
       " 'reception',\n",
       " 'selection',\n",
       " 'smell',\n",
       " 'streets',\n",
       " 'through',\n",
       " 'two',\n",
       " 'warmer',\n",
       " 'you']"
      ]
     },
     "execution_count": 9,
     "metadata": {},
     "output_type": "execute_result"
    }
   ],
   "source": [
    "vect.get_feature_names()[::30]        #every 30 words from the corpus"
   ]
  },
  {
   "cell_type": "code",
   "execution_count": 10,
   "metadata": {},
   "outputs": [
    {
     "data": {
      "text/plain": [
       "634"
      ]
     },
     "execution_count": 10,
     "metadata": {},
     "output_type": "execute_result"
    }
   ],
   "source": [
    "#Count Vectorizer builds a vocbulary of all the words in the corpus \n",
    "#A matrix is formed which consists of the number of times the words appear in a particular document\n",
    "len(vect.get_feature_names())            #total number of tokens"
   ]
  },
  {
   "cell_type": "code",
   "execution_count": 11,
   "metadata": {},
   "outputs": [
    {
     "data": {
      "text/plain": [
       "<185x634 sparse matrix of type '<class 'numpy.int64'>'\n",
       "\twith 1635 stored elements in Compressed Sparse Row format>"
      ]
     },
     "execution_count": 11,
     "metadata": {},
     "output_type": "execute_result"
    }
   ],
   "source": [
    "X_train_vect=vect.transform(X_train)\n",
    "X_train_vect                  \n",
    "#each document is the row and the columns are all the tokens in the corpus\n",
    "#the matrix is formed with the columns as 0 and 1 indicating the presence or absence of the word in the row or doc\n",
    "#hence most of the matrix is 0 and it is sparse"
   ]
  },
  {
   "cell_type": "code",
   "execution_count": 12,
   "metadata": {},
   "outputs": [
    {
     "data": {
      "text/plain": [
       "LogisticRegression()"
      ]
     },
     "execution_count": 12,
     "metadata": {},
     "output_type": "execute_result"
    }
   ],
   "source": [
    "from sklearn.linear_model import LogisticRegression\n",
    "model=LogisticRegression()\n",
    "model.fit(X_train_vect,y_train)\n",
    "\n",
    "#import logging as log\n",
    "#from sklearn.metrics import accuracy_score\n",
    "#y_pred = log.predict(x_test)\n",
    "#score =accuracy_score(y_test,y_pred)\n",
    "#The accuracy is around 85%"
   ]
  },
  {
   "cell_type": "code",
   "execution_count": 13,
   "metadata": {},
   "outputs": [
    {
     "name": "stdout",
     "output_type": "stream",
     "text": [
      "smallest\n",
      "['comfortable' 'location' 'subway' 'service' 'spacious' 'nice' 'is'\n",
      " 'comfy' 'close' 'facilities']\n",
      "\n",
      "largest\n",
      "['small' 'in' 'not' 'noisy' 'door' 'uncomfortable' 'there' 'cold' 'could'\n",
      " 'no']\n",
      "\n"
     ]
    }
   ],
   "source": [
    "feature_names=np.array(vect.get_feature_names())\n",
    "sorted_coef_index=model.coef_[0].argsort()\n",
    "print('smallest\\n{}\\n'.format(feature_names[sorted_coef_index[:10]]))\n",
    "print('largest\\n{}\\n'.format(feature_names[sorted_coef_index[:-11:-1]]))\n",
    "\n",
    "#coeff says that if one variable goes up, the other one goes lower\n",
    "#hence small variables give +ve words which give +ve reviews or 0 as the review\n",
    "#same for large coeff the words are that which give the reviews as 1"
   ]
  },
  {
   "cell_type": "code",
   "execution_count": 16,
   "metadata": {},
   "outputs": [
    {
     "name": "stdout",
     "output_type": "stream",
     "text": [
      "['0' '1']\n",
      "['0' '0']\n",
      "['0' '1']\n"
     ]
    }
   ],
   "source": [
    "print(model.predict(vect.transform(['big insects','spacious rooms'])))\n",
    "print(model.predict(vect.transform(['rat in the room','absymal bed'])))\n",
    "print(model.predict(vect.transform(['doors to outside of hotel did not lock anymore','About 20 minutes walk to Times Square'])))\n"
   ]
  },
  {
   "cell_type": "code",
   "execution_count": 17,
   "metadata": {},
   "outputs": [
    {
     "name": "stdout",
     "output_type": "stream",
     "text": [
      "['0' '0']\n"
     ]
    }
   ],
   "source": [
    "print(model.predict(vect.transform(['smaller beds','clean washrooms'])))"
   ]
  }
 ],
 "metadata": {
  "kernelspec": {
   "display_name": "Python 3",
   "language": "python",
   "name": "python3"
  },
  "language_info": {
   "codemirror_mode": {
    "name": "ipython",
    "version": 3
   },
   "file_extension": ".py",
   "mimetype": "text/x-python",
   "name": "python",
   "nbconvert_exporter": "python",
   "pygments_lexer": "ipython3",
   "version": "3.8.5"
  }
 },
 "nbformat": 4,
 "nbformat_minor": 4
}
